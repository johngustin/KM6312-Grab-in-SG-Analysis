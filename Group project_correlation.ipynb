{
 "cells": [
  {
   "cell_type": "code",
   "execution_count": 3,
   "id": "0fb74081",
   "metadata": {},
   "outputs": [],
   "source": [
    "import pandas as pd\n",
    "import string\n",
    "import re\n",
    "import ast\n",
    "import seaborn as sns\n",
    "from nltk.corpus import stopwords\n",
    "from nltk.stem.snowball import SnowballStemmer\n",
    "from nltk.stem import WordNetLemmatizer\n",
    "from nltk.tokenize import word_tokenize\n",
    "import matplotlib.pyplot as plt"
   ]
  },
  {
   "cell_type": "code",
   "execution_count": 4,
   "id": "d010d9cf",
   "metadata": {},
   "outputs": [],
   "source": [
    "df1= pd.read_csv(\"Grab SG Restaurants_2.csv\")"
   ]
  },
  {
   "cell_type": "code",
   "execution_count": 5,
   "id": "3a9c17d4",
   "metadata": {},
   "outputs": [
    {
     "data": {
      "text/plain": [
       "(16136, 19)"
      ]
     },
     "execution_count": 5,
     "metadata": {},
     "output_type": "execute_result"
    }
   ],
   "source": [
    "df1.shape"
   ]
  },
  {
   "cell_type": "code",
   "execution_count": 6,
   "id": "13cdeccb",
   "metadata": {},
   "outputs": [],
   "source": [
    "df1 = df1.drop_duplicates()"
   ]
  },
  {
   "cell_type": "code",
   "execution_count": 7,
   "id": "a160a965",
   "metadata": {},
   "outputs": [],
   "source": [
    "#filter only Grab food related\n",
    "df1=df1.loc[df1['loc_type']=='FOOD']"
   ]
  },
  {
   "cell_type": "code",
   "execution_count": 8,
   "id": "b0aed100",
   "metadata": {},
   "outputs": [],
   "source": [
    "df1['promo'] = df1['promo'].apply(lambda x: 'yes promo'if not pd.isnull(x) else 'no promo')\n"
   ]
  },
  {
   "cell_type": "code",
   "execution_count": 9,
   "id": "dfefc22b",
   "metadata": {},
   "outputs": [],
   "source": [
    "#replace promo blank space with no promo and fill empty currency rows\n",
    "#df1['promo']=df1['promo'].fillna('No promo')\n",
    "df1['currency']=df1['currency'].fillna('SGD')"
   ]
  },
  {
   "cell_type": "code",
   "execution_count": 10,
   "id": "c3d1f92e",
   "metadata": {},
   "outputs": [],
   "source": [
    "df1['delivery_cost']=df1['delivery_cost'].apply(lambda c: c/100)"
   ]
  },
  {
   "cell_type": "code",
   "execution_count": 11,
   "id": "d56498e7",
   "metadata": {},
   "outputs": [],
   "source": [
    "#count number of cuisine per restaurant\n",
    "df1['cuisine_count']= df1['cuisine'].apply(lambda x: len(str(x).split(',')))"
   ]
  },
  {
   "cell_type": "code",
   "execution_count": 12,
   "id": "c8f150ca",
   "metadata": {},
   "outputs": [],
   "source": [
    "df1=  df1.dropna(subset=['reviews_nr','rating','cuisine','name','delivery_time','delivery_cost']) #remove rows with empty rating and reviews"
   ]
  },
  {
   "cell_type": "code",
   "execution_count": 13,
   "id": "4e1c710a",
   "metadata": {},
   "outputs": [],
   "source": [
    "df1= df1.drop(['image_url','id_source'], axis=1)"
   ]
  },
  {
   "cell_type": "code",
   "execution_count": 14,
   "id": "a090dc99",
   "metadata": {},
   "outputs": [],
   "source": [
    "df1['location']= df1['address'].apply(lambda x: str(x).split(' - ')[-1])"
   ]
  },
  {
   "cell_type": "code",
   "execution_count": 15,
   "id": "f635f4af",
   "metadata": {},
   "outputs": [],
   "source": [
    "df1['cuisine'] = df1['cuisine'].apply(lambda x: ast.literal_eval(x))"
   ]
  },
  {
   "cell_type": "code",
   "execution_count": 16,
   "id": "fe16bb7a",
   "metadata": {},
   "outputs": [
    {
     "data": {
      "text/plain": [
       "(11900, 19)"
      ]
     },
     "execution_count": 16,
     "metadata": {},
     "output_type": "execute_result"
    }
   ],
   "source": [
    "df1.shape"
   ]
  },
  {
   "cell_type": "code",
   "execution_count": 17,
   "id": "52318dba",
   "metadata": {},
   "outputs": [
    {
     "data": {
      "text/html": [
       "<div>\n",
       "<style scoped>\n",
       "    .dataframe tbody tr th:only-of-type {\n",
       "        vertical-align: middle;\n",
       "    }\n",
       "\n",
       "    .dataframe tbody tr th {\n",
       "        vertical-align: top;\n",
       "    }\n",
       "\n",
       "    .dataframe thead th {\n",
       "        text-align: right;\n",
       "    }\n",
       "</style>\n",
       "<table border=\"1\" class=\"dataframe\">\n",
       "  <thead>\n",
       "    <tr style=\"text-align: right;\">\n",
       "      <th></th>\n",
       "      <th>name</th>\n",
       "      <th>address</th>\n",
       "      <th>country</th>\n",
       "      <th>cuisine</th>\n",
       "      <th>currency</th>\n",
       "      <th>delivery_cost</th>\n",
       "      <th>lat</th>\n",
       "      <th>lon</th>\n",
       "      <th>opening_hours</th>\n",
       "      <th>radius</th>\n",
       "      <th>rating</th>\n",
       "      <th>reviews_nr</th>\n",
       "      <th>delivery_options</th>\n",
       "      <th>promo</th>\n",
       "      <th>loc_type</th>\n",
       "      <th>delivery_by</th>\n",
       "      <th>delivery_time</th>\n",
       "      <th>cuisine_count</th>\n",
       "      <th>location</th>\n",
       "    </tr>\n",
       "  </thead>\n",
       "  <tbody>\n",
       "    <tr>\n",
       "      <th>0</th>\n",
       "      <td>Texas Chicken</td>\n",
       "      <td>Texas Chicken - VivoCity</td>\n",
       "      <td>Singapore</td>\n",
       "      <td>[Western, Fast Food, Halal, Chicken, Beverages]</td>\n",
       "      <td>SGD</td>\n",
       "      <td>5.7</td>\n",
       "      <td>1.264792</td>\n",
       "      <td>103.822103</td>\n",
       "      <td>{\"open\": true, \"displayedHours\": \"10:30-21:30\"...</td>\n",
       "      <td>5000</td>\n",
       "      <td>3.8</td>\n",
       "      <td>1591.0</td>\n",
       "      <td>ONLY_DELIVERY</td>\n",
       "      <td>yes promo</td>\n",
       "      <td>FOOD</td>\n",
       "      <td>GRAB</td>\n",
       "      <td>43.0</td>\n",
       "      <td>5</td>\n",
       "      <td>VivoCity</td>\n",
       "    </tr>\n",
       "    <tr>\n",
       "      <th>1</th>\n",
       "      <td>Subway</td>\n",
       "      <td>Subway - Vivocity</td>\n",
       "      <td>Singapore</td>\n",
       "      <td>[Healthy, Sandwiches, Fast Food, Halal, Western]</td>\n",
       "      <td>SGD</td>\n",
       "      <td>5.7</td>\n",
       "      <td>1.264741</td>\n",
       "      <td>103.822072</td>\n",
       "      <td>{\"open\": true, \"displayedHours\": \"12:00-19:00\"...</td>\n",
       "      <td>3000</td>\n",
       "      <td>4.2</td>\n",
       "      <td>197.0</td>\n",
       "      <td>ONLY_DELIVERY</td>\n",
       "      <td>yes promo</td>\n",
       "      <td>FOOD</td>\n",
       "      <td>GRAB</td>\n",
       "      <td>42.0</td>\n",
       "      <td>5</td>\n",
       "      <td>Vivocity</td>\n",
       "    </tr>\n",
       "    <tr>\n",
       "      <th>2</th>\n",
       "      <td>LiHO Tea</td>\n",
       "      <td>LiHO Tea - Vivo City</td>\n",
       "      <td>Singapore</td>\n",
       "      <td>[Same Prices In-Store, Beverages, Local, Bubbl...</td>\n",
       "      <td>SGD</td>\n",
       "      <td>5.6</td>\n",
       "      <td>1.264309</td>\n",
       "      <td>103.821369</td>\n",
       "      <td>{\"open\": true, \"displayedHours\": \"11:30-20:45\"...</td>\n",
       "      <td>5000</td>\n",
       "      <td>4.5</td>\n",
       "      <td>353.0</td>\n",
       "      <td>DELIVERY_TAKEAWAY</td>\n",
       "      <td>yes promo</td>\n",
       "      <td>FOOD</td>\n",
       "      <td>GRAB</td>\n",
       "      <td>41.0</td>\n",
       "      <td>4</td>\n",
       "      <td>Vivo City</td>\n",
       "    </tr>\n",
       "    <tr>\n",
       "      <th>3</th>\n",
       "      <td>Wingstop</td>\n",
       "      <td>Wingstop - VivoCity</td>\n",
       "      <td>Singapore</td>\n",
       "      <td>[Halal, Chicken, Fast Food, Burger, Western]</td>\n",
       "      <td>SGD</td>\n",
       "      <td>5.6</td>\n",
       "      <td>1.263527</td>\n",
       "      <td>103.821712</td>\n",
       "      <td>{\"open\": true, \"displayedHours\": \"11:00-21:00\"...</td>\n",
       "      <td>5000</td>\n",
       "      <td>4.4</td>\n",
       "      <td>1391.0</td>\n",
       "      <td>ONLY_DELIVERY</td>\n",
       "      <td>yes promo</td>\n",
       "      <td>FOOD</td>\n",
       "      <td>GRAB</td>\n",
       "      <td>45.0</td>\n",
       "      <td>5</td>\n",
       "      <td>VivoCity</td>\n",
       "    </tr>\n",
       "    <tr>\n",
       "      <th>4</th>\n",
       "      <td>Le Shrimp Ramen</td>\n",
       "      <td>Le Shrimp Ramen - Vivocity</td>\n",
       "      <td>Singapore</td>\n",
       "      <td>[Japanese, Ramen, Noodles, Asian]</td>\n",
       "      <td>SGD</td>\n",
       "      <td>5.7</td>\n",
       "      <td>1.264810</td>\n",
       "      <td>103.822554</td>\n",
       "      <td>{\"open\": true, \"displayedHours\": \"10:30-21:00\"...</td>\n",
       "      <td>5000</td>\n",
       "      <td>4.6</td>\n",
       "      <td>309.0</td>\n",
       "      <td>DELIVERY_TAKEAWAY</td>\n",
       "      <td>yes promo</td>\n",
       "      <td>FOOD</td>\n",
       "      <td>GRAB</td>\n",
       "      <td>44.0</td>\n",
       "      <td>4</td>\n",
       "      <td>Vivocity</td>\n",
       "    </tr>\n",
       "  </tbody>\n",
       "</table>\n",
       "</div>"
      ],
      "text/plain": [
       "              name                     address    country  \\\n",
       "0    Texas Chicken    Texas Chicken - VivoCity  Singapore   \n",
       "1           Subway           Subway - Vivocity  Singapore   \n",
       "2         LiHO Tea        LiHO Tea - Vivo City  Singapore   \n",
       "3         Wingstop         Wingstop - VivoCity  Singapore   \n",
       "4  Le Shrimp Ramen  Le Shrimp Ramen - Vivocity  Singapore   \n",
       "\n",
       "                                             cuisine currency  delivery_cost  \\\n",
       "0    [Western, Fast Food, Halal, Chicken, Beverages]      SGD            5.7   \n",
       "1   [Healthy, Sandwiches, Fast Food, Halal, Western]      SGD            5.7   \n",
       "2  [Same Prices In-Store, Beverages, Local, Bubbl...      SGD            5.6   \n",
       "3       [Halal, Chicken, Fast Food, Burger, Western]      SGD            5.6   \n",
       "4                  [Japanese, Ramen, Noodles, Asian]      SGD            5.7   \n",
       "\n",
       "        lat         lon                                      opening_hours  \\\n",
       "0  1.264792  103.822103  {\"open\": true, \"displayedHours\": \"10:30-21:30\"...   \n",
       "1  1.264741  103.822072  {\"open\": true, \"displayedHours\": \"12:00-19:00\"...   \n",
       "2  1.264309  103.821369  {\"open\": true, \"displayedHours\": \"11:30-20:45\"...   \n",
       "3  1.263527  103.821712  {\"open\": true, \"displayedHours\": \"11:00-21:00\"...   \n",
       "4  1.264810  103.822554  {\"open\": true, \"displayedHours\": \"10:30-21:00\"...   \n",
       "\n",
       "   radius  rating  reviews_nr   delivery_options      promo loc_type  \\\n",
       "0    5000     3.8      1591.0      ONLY_DELIVERY  yes promo     FOOD   \n",
       "1    3000     4.2       197.0      ONLY_DELIVERY  yes promo     FOOD   \n",
       "2    5000     4.5       353.0  DELIVERY_TAKEAWAY  yes promo     FOOD   \n",
       "3    5000     4.4      1391.0      ONLY_DELIVERY  yes promo     FOOD   \n",
       "4    5000     4.6       309.0  DELIVERY_TAKEAWAY  yes promo     FOOD   \n",
       "\n",
       "  delivery_by  delivery_time  cuisine_count   location  \n",
       "0        GRAB           43.0              5   VivoCity  \n",
       "1        GRAB           42.0              5   Vivocity  \n",
       "2        GRAB           41.0              4  Vivo City  \n",
       "3        GRAB           45.0              5   VivoCity  \n",
       "4        GRAB           44.0              4   Vivocity  "
      ]
     },
     "execution_count": 17,
     "metadata": {},
     "output_type": "execute_result"
    }
   ],
   "source": [
    "df1.head()"
   ]
  },
  {
   "cell_type": "code",
   "execution_count": 43,
   "id": "d3e52e44",
   "metadata": {},
   "outputs": [],
   "source": [
    "df1 = df1[(df1['delivery_options'] == 'ONLY_DELIVERY') \n",
    "          & (df1['delivery_by'] == 'GRAB')\n",
    "          & (df1['reviews_nr'] > 20)]"
   ]
  },
  {
   "cell_type": "code",
   "execution_count": 44,
   "id": "ce511540",
   "metadata": {},
   "outputs": [
    {
     "data": {
      "text/html": [
       "<div>\n",
       "<style scoped>\n",
       "    .dataframe tbody tr th:only-of-type {\n",
       "        vertical-align: middle;\n",
       "    }\n",
       "\n",
       "    .dataframe tbody tr th {\n",
       "        vertical-align: top;\n",
       "    }\n",
       "\n",
       "    .dataframe thead th {\n",
       "        text-align: right;\n",
       "    }\n",
       "</style>\n",
       "<table border=\"1\" class=\"dataframe\">\n",
       "  <thead>\n",
       "    <tr style=\"text-align: right;\">\n",
       "      <th></th>\n",
       "      <th>name</th>\n",
       "      <th>address</th>\n",
       "      <th>country</th>\n",
       "      <th>cuisine</th>\n",
       "      <th>currency</th>\n",
       "      <th>delivery_cost</th>\n",
       "      <th>lat</th>\n",
       "      <th>lon</th>\n",
       "      <th>opening_hours</th>\n",
       "      <th>radius</th>\n",
       "      <th>rating</th>\n",
       "      <th>reviews_nr</th>\n",
       "      <th>delivery_options</th>\n",
       "      <th>promo</th>\n",
       "      <th>loc_type</th>\n",
       "      <th>delivery_by</th>\n",
       "      <th>delivery_time</th>\n",
       "      <th>cuisine_count</th>\n",
       "      <th>location</th>\n",
       "    </tr>\n",
       "  </thead>\n",
       "  <tbody>\n",
       "    <tr>\n",
       "      <th>0</th>\n",
       "      <td>Texas Chicken</td>\n",
       "      <td>Texas Chicken - VivoCity</td>\n",
       "      <td>Singapore</td>\n",
       "      <td>[Western, Fast Food, Halal, Chicken, Beverages]</td>\n",
       "      <td>SGD</td>\n",
       "      <td>5.7</td>\n",
       "      <td>1.264792</td>\n",
       "      <td>103.822103</td>\n",
       "      <td>{\"open\": true, \"displayedHours\": \"10:30-21:30\"...</td>\n",
       "      <td>5000</td>\n",
       "      <td>3.8</td>\n",
       "      <td>1591.0</td>\n",
       "      <td>ONLY_DELIVERY</td>\n",
       "      <td>yes promo</td>\n",
       "      <td>FOOD</td>\n",
       "      <td>GRAB</td>\n",
       "      <td>43.0</td>\n",
       "      <td>5</td>\n",
       "      <td>VivoCity</td>\n",
       "    </tr>\n",
       "    <tr>\n",
       "      <th>1</th>\n",
       "      <td>Subway</td>\n",
       "      <td>Subway - Vivocity</td>\n",
       "      <td>Singapore</td>\n",
       "      <td>[Healthy, Sandwiches, Fast Food, Halal, Western]</td>\n",
       "      <td>SGD</td>\n",
       "      <td>5.7</td>\n",
       "      <td>1.264741</td>\n",
       "      <td>103.822072</td>\n",
       "      <td>{\"open\": true, \"displayedHours\": \"12:00-19:00\"...</td>\n",
       "      <td>3000</td>\n",
       "      <td>4.2</td>\n",
       "      <td>197.0</td>\n",
       "      <td>ONLY_DELIVERY</td>\n",
       "      <td>yes promo</td>\n",
       "      <td>FOOD</td>\n",
       "      <td>GRAB</td>\n",
       "      <td>42.0</td>\n",
       "      <td>5</td>\n",
       "      <td>Vivocity</td>\n",
       "    </tr>\n",
       "    <tr>\n",
       "      <th>3</th>\n",
       "      <td>Wingstop</td>\n",
       "      <td>Wingstop - VivoCity</td>\n",
       "      <td>Singapore</td>\n",
       "      <td>[Halal, Chicken, Fast Food, Burger, Western]</td>\n",
       "      <td>SGD</td>\n",
       "      <td>5.6</td>\n",
       "      <td>1.263527</td>\n",
       "      <td>103.821712</td>\n",
       "      <td>{\"open\": true, \"displayedHours\": \"11:00-21:00\"...</td>\n",
       "      <td>5000</td>\n",
       "      <td>4.4</td>\n",
       "      <td>1391.0</td>\n",
       "      <td>ONLY_DELIVERY</td>\n",
       "      <td>yes promo</td>\n",
       "      <td>FOOD</td>\n",
       "      <td>GRAB</td>\n",
       "      <td>45.0</td>\n",
       "      <td>5</td>\n",
       "      <td>VivoCity</td>\n",
       "    </tr>\n",
       "    <tr>\n",
       "      <th>6</th>\n",
       "      <td>Burger King</td>\n",
       "      <td>Burger King - VivoCity</td>\n",
       "      <td>Singapore</td>\n",
       "      <td>[American, Burger, Halal]</td>\n",
       "      <td>SGD</td>\n",
       "      <td>5.6</td>\n",
       "      <td>1.263741</td>\n",
       "      <td>103.821354</td>\n",
       "      <td>{\"open\": true, \"displayedHours\": \"09:00-21:45\"...</td>\n",
       "      <td>5000</td>\n",
       "      <td>4.1</td>\n",
       "      <td>389.0</td>\n",
       "      <td>ONLY_DELIVERY</td>\n",
       "      <td>yes promo</td>\n",
       "      <td>FOOD</td>\n",
       "      <td>GRAB</td>\n",
       "      <td>41.0</td>\n",
       "      <td>3</td>\n",
       "      <td>VivoCity</td>\n",
       "    </tr>\n",
       "    <tr>\n",
       "      <th>12</th>\n",
       "      <td>Ayam Penyet President</td>\n",
       "      <td>Ayam Penyet President - Vivocity</td>\n",
       "      <td>Singapore</td>\n",
       "      <td>[Halal, Local, Chicken, Same Prices In-Store]</td>\n",
       "      <td>SGD</td>\n",
       "      <td>5.7</td>\n",
       "      <td>1.264905</td>\n",
       "      <td>103.822693</td>\n",
       "      <td>{\"open\": true, \"displayedHours\": \"11:00-21:00\"...</td>\n",
       "      <td>5000</td>\n",
       "      <td>4.5</td>\n",
       "      <td>1027.0</td>\n",
       "      <td>ONLY_DELIVERY</td>\n",
       "      <td>yes promo</td>\n",
       "      <td>FOOD</td>\n",
       "      <td>GRAB</td>\n",
       "      <td>42.0</td>\n",
       "      <td>4</td>\n",
       "      <td>Vivocity</td>\n",
       "    </tr>\n",
       "  </tbody>\n",
       "</table>\n",
       "</div>"
      ],
      "text/plain": [
       "                     name                           address    country  \\\n",
       "0           Texas Chicken          Texas Chicken - VivoCity  Singapore   \n",
       "1                  Subway                 Subway - Vivocity  Singapore   \n",
       "3                Wingstop               Wingstop - VivoCity  Singapore   \n",
       "6             Burger King            Burger King - VivoCity  Singapore   \n",
       "12  Ayam Penyet President  Ayam Penyet President - Vivocity  Singapore   \n",
       "\n",
       "                                             cuisine currency  delivery_cost  \\\n",
       "0    [Western, Fast Food, Halal, Chicken, Beverages]      SGD            5.7   \n",
       "1   [Healthy, Sandwiches, Fast Food, Halal, Western]      SGD            5.7   \n",
       "3       [Halal, Chicken, Fast Food, Burger, Western]      SGD            5.6   \n",
       "6                          [American, Burger, Halal]      SGD            5.6   \n",
       "12     [Halal, Local, Chicken, Same Prices In-Store]      SGD            5.7   \n",
       "\n",
       "         lat         lon                                      opening_hours  \\\n",
       "0   1.264792  103.822103  {\"open\": true, \"displayedHours\": \"10:30-21:30\"...   \n",
       "1   1.264741  103.822072  {\"open\": true, \"displayedHours\": \"12:00-19:00\"...   \n",
       "3   1.263527  103.821712  {\"open\": true, \"displayedHours\": \"11:00-21:00\"...   \n",
       "6   1.263741  103.821354  {\"open\": true, \"displayedHours\": \"09:00-21:45\"...   \n",
       "12  1.264905  103.822693  {\"open\": true, \"displayedHours\": \"11:00-21:00\"...   \n",
       "\n",
       "    radius  rating  reviews_nr delivery_options      promo loc_type  \\\n",
       "0     5000     3.8      1591.0    ONLY_DELIVERY  yes promo     FOOD   \n",
       "1     3000     4.2       197.0    ONLY_DELIVERY  yes promo     FOOD   \n",
       "3     5000     4.4      1391.0    ONLY_DELIVERY  yes promo     FOOD   \n",
       "6     5000     4.1       389.0    ONLY_DELIVERY  yes promo     FOOD   \n",
       "12    5000     4.5      1027.0    ONLY_DELIVERY  yes promo     FOOD   \n",
       "\n",
       "   delivery_by  delivery_time  cuisine_count  location  \n",
       "0         GRAB           43.0              5  VivoCity  \n",
       "1         GRAB           42.0              5  Vivocity  \n",
       "3         GRAB           45.0              5  VivoCity  \n",
       "6         GRAB           41.0              3  VivoCity  \n",
       "12        GRAB           42.0              4  Vivocity  "
      ]
     },
     "execution_count": 44,
     "metadata": {},
     "output_type": "execute_result"
    }
   ],
   "source": [
    "df1.head()"
   ]
  },
  {
   "cell_type": "code",
   "execution_count": 45,
   "id": "d668def4",
   "metadata": {},
   "outputs": [],
   "source": [
    "df2 = df1.explode('cuisine')"
   ]
  },
  {
   "cell_type": "code",
   "execution_count": 46,
   "id": "9096334e",
   "metadata": {},
   "outputs": [],
   "source": [
    "df2 = df2.reset_index(drop=True)"
   ]
  },
  {
   "cell_type": "code",
   "execution_count": 47,
   "id": "3e1786ab",
   "metadata": {},
   "outputs": [
    {
     "data": {
      "text/html": [
       "<div>\n",
       "<style scoped>\n",
       "    .dataframe tbody tr th:only-of-type {\n",
       "        vertical-align: middle;\n",
       "    }\n",
       "\n",
       "    .dataframe tbody tr th {\n",
       "        vertical-align: top;\n",
       "    }\n",
       "\n",
       "    .dataframe thead th {\n",
       "        text-align: right;\n",
       "    }\n",
       "</style>\n",
       "<table border=\"1\" class=\"dataframe\">\n",
       "  <thead>\n",
       "    <tr style=\"text-align: right;\">\n",
       "      <th></th>\n",
       "      <th>name</th>\n",
       "      <th>address</th>\n",
       "      <th>country</th>\n",
       "      <th>cuisine</th>\n",
       "      <th>currency</th>\n",
       "      <th>delivery_cost</th>\n",
       "      <th>lat</th>\n",
       "      <th>lon</th>\n",
       "      <th>opening_hours</th>\n",
       "      <th>radius</th>\n",
       "      <th>rating</th>\n",
       "      <th>reviews_nr</th>\n",
       "      <th>delivery_options</th>\n",
       "      <th>promo</th>\n",
       "      <th>loc_type</th>\n",
       "      <th>delivery_by</th>\n",
       "      <th>delivery_time</th>\n",
       "      <th>cuisine_count</th>\n",
       "      <th>location</th>\n",
       "    </tr>\n",
       "  </thead>\n",
       "  <tbody>\n",
       "    <tr>\n",
       "      <th>0</th>\n",
       "      <td>Texas Chicken</td>\n",
       "      <td>Texas Chicken - VivoCity</td>\n",
       "      <td>Singapore</td>\n",
       "      <td>Western</td>\n",
       "      <td>SGD</td>\n",
       "      <td>5.7</td>\n",
       "      <td>1.264792</td>\n",
       "      <td>103.822103</td>\n",
       "      <td>{\"open\": true, \"displayedHours\": \"10:30-21:30\"...</td>\n",
       "      <td>5000</td>\n",
       "      <td>3.8</td>\n",
       "      <td>1591.0</td>\n",
       "      <td>ONLY_DELIVERY</td>\n",
       "      <td>yes promo</td>\n",
       "      <td>FOOD</td>\n",
       "      <td>GRAB</td>\n",
       "      <td>43.0</td>\n",
       "      <td>5</td>\n",
       "      <td>VivoCity</td>\n",
       "    </tr>\n",
       "    <tr>\n",
       "      <th>1</th>\n",
       "      <td>Texas Chicken</td>\n",
       "      <td>Texas Chicken - VivoCity</td>\n",
       "      <td>Singapore</td>\n",
       "      <td>Fast Food</td>\n",
       "      <td>SGD</td>\n",
       "      <td>5.7</td>\n",
       "      <td>1.264792</td>\n",
       "      <td>103.822103</td>\n",
       "      <td>{\"open\": true, \"displayedHours\": \"10:30-21:30\"...</td>\n",
       "      <td>5000</td>\n",
       "      <td>3.8</td>\n",
       "      <td>1591.0</td>\n",
       "      <td>ONLY_DELIVERY</td>\n",
       "      <td>yes promo</td>\n",
       "      <td>FOOD</td>\n",
       "      <td>GRAB</td>\n",
       "      <td>43.0</td>\n",
       "      <td>5</td>\n",
       "      <td>VivoCity</td>\n",
       "    </tr>\n",
       "    <tr>\n",
       "      <th>2</th>\n",
       "      <td>Texas Chicken</td>\n",
       "      <td>Texas Chicken - VivoCity</td>\n",
       "      <td>Singapore</td>\n",
       "      <td>Halal</td>\n",
       "      <td>SGD</td>\n",
       "      <td>5.7</td>\n",
       "      <td>1.264792</td>\n",
       "      <td>103.822103</td>\n",
       "      <td>{\"open\": true, \"displayedHours\": \"10:30-21:30\"...</td>\n",
       "      <td>5000</td>\n",
       "      <td>3.8</td>\n",
       "      <td>1591.0</td>\n",
       "      <td>ONLY_DELIVERY</td>\n",
       "      <td>yes promo</td>\n",
       "      <td>FOOD</td>\n",
       "      <td>GRAB</td>\n",
       "      <td>43.0</td>\n",
       "      <td>5</td>\n",
       "      <td>VivoCity</td>\n",
       "    </tr>\n",
       "    <tr>\n",
       "      <th>3</th>\n",
       "      <td>Texas Chicken</td>\n",
       "      <td>Texas Chicken - VivoCity</td>\n",
       "      <td>Singapore</td>\n",
       "      <td>Chicken</td>\n",
       "      <td>SGD</td>\n",
       "      <td>5.7</td>\n",
       "      <td>1.264792</td>\n",
       "      <td>103.822103</td>\n",
       "      <td>{\"open\": true, \"displayedHours\": \"10:30-21:30\"...</td>\n",
       "      <td>5000</td>\n",
       "      <td>3.8</td>\n",
       "      <td>1591.0</td>\n",
       "      <td>ONLY_DELIVERY</td>\n",
       "      <td>yes promo</td>\n",
       "      <td>FOOD</td>\n",
       "      <td>GRAB</td>\n",
       "      <td>43.0</td>\n",
       "      <td>5</td>\n",
       "      <td>VivoCity</td>\n",
       "    </tr>\n",
       "    <tr>\n",
       "      <th>4</th>\n",
       "      <td>Texas Chicken</td>\n",
       "      <td>Texas Chicken - VivoCity</td>\n",
       "      <td>Singapore</td>\n",
       "      <td>Beverages</td>\n",
       "      <td>SGD</td>\n",
       "      <td>5.7</td>\n",
       "      <td>1.264792</td>\n",
       "      <td>103.822103</td>\n",
       "      <td>{\"open\": true, \"displayedHours\": \"10:30-21:30\"...</td>\n",
       "      <td>5000</td>\n",
       "      <td>3.8</td>\n",
       "      <td>1591.0</td>\n",
       "      <td>ONLY_DELIVERY</td>\n",
       "      <td>yes promo</td>\n",
       "      <td>FOOD</td>\n",
       "      <td>GRAB</td>\n",
       "      <td>43.0</td>\n",
       "      <td>5</td>\n",
       "      <td>VivoCity</td>\n",
       "    </tr>\n",
       "  </tbody>\n",
       "</table>\n",
       "</div>"
      ],
      "text/plain": [
       "            name                   address    country    cuisine currency  \\\n",
       "0  Texas Chicken  Texas Chicken - VivoCity  Singapore    Western      SGD   \n",
       "1  Texas Chicken  Texas Chicken - VivoCity  Singapore  Fast Food      SGD   \n",
       "2  Texas Chicken  Texas Chicken - VivoCity  Singapore      Halal      SGD   \n",
       "3  Texas Chicken  Texas Chicken - VivoCity  Singapore    Chicken      SGD   \n",
       "4  Texas Chicken  Texas Chicken - VivoCity  Singapore  Beverages      SGD   \n",
       "\n",
       "   delivery_cost       lat         lon  \\\n",
       "0            5.7  1.264792  103.822103   \n",
       "1            5.7  1.264792  103.822103   \n",
       "2            5.7  1.264792  103.822103   \n",
       "3            5.7  1.264792  103.822103   \n",
       "4            5.7  1.264792  103.822103   \n",
       "\n",
       "                                       opening_hours  radius  rating  \\\n",
       "0  {\"open\": true, \"displayedHours\": \"10:30-21:30\"...    5000     3.8   \n",
       "1  {\"open\": true, \"displayedHours\": \"10:30-21:30\"...    5000     3.8   \n",
       "2  {\"open\": true, \"displayedHours\": \"10:30-21:30\"...    5000     3.8   \n",
       "3  {\"open\": true, \"displayedHours\": \"10:30-21:30\"...    5000     3.8   \n",
       "4  {\"open\": true, \"displayedHours\": \"10:30-21:30\"...    5000     3.8   \n",
       "\n",
       "   reviews_nr delivery_options      promo loc_type delivery_by  delivery_time  \\\n",
       "0      1591.0    ONLY_DELIVERY  yes promo     FOOD        GRAB           43.0   \n",
       "1      1591.0    ONLY_DELIVERY  yes promo     FOOD        GRAB           43.0   \n",
       "2      1591.0    ONLY_DELIVERY  yes promo     FOOD        GRAB           43.0   \n",
       "3      1591.0    ONLY_DELIVERY  yes promo     FOOD        GRAB           43.0   \n",
       "4      1591.0    ONLY_DELIVERY  yes promo     FOOD        GRAB           43.0   \n",
       "\n",
       "   cuisine_count  location  \n",
       "0              5  VivoCity  \n",
       "1              5  VivoCity  \n",
       "2              5  VivoCity  \n",
       "3              5  VivoCity  \n",
       "4              5  VivoCity  "
      ]
     },
     "execution_count": 47,
     "metadata": {},
     "output_type": "execute_result"
    }
   ],
   "source": [
    "df2.head()"
   ]
  },
  {
   "cell_type": "code",
   "execution_count": 48,
   "id": "01a8c83a",
   "metadata": {},
   "outputs": [
    {
     "data": {
      "text/plain": [
       "[]"
      ]
     },
     "execution_count": 48,
     "metadata": {},
     "output_type": "execute_result"
    }
   ],
   "source": [
    "df1.columns[df1.isnull().any()].tolist()\n"
   ]
  },
  {
   "cell_type": "code",
   "execution_count": 55,
   "id": "484fd2a7",
   "metadata": {},
   "outputs": [],
   "source": [
    "df_3 = df1[['cuisine_count','promo','rating','delivery_cost','radius','delivery_time']]"
   ]
  },
  {
   "cell_type": "code",
   "execution_count": 56,
   "id": "3faa07cd",
   "metadata": {},
   "outputs": [
    {
     "data": {
      "text/plain": [
       "Index(['cuisine_count', 'rating', 'delivery_cost', 'radius', 'delivery_time',\n",
       "       'promo_no promo', 'promo_yes promo'],\n",
       "      dtype='object')"
      ]
     },
     "execution_count": 56,
     "metadata": {},
     "output_type": "execute_result"
    }
   ],
   "source": [
    "df_used = pd.get_dummies(df_3)\n",
    "df_used.columns"
   ]
  },
  {
   "cell_type": "code",
   "execution_count": 57,
   "id": "4f594151",
   "metadata": {},
   "outputs": [
    {
     "name": "stderr",
     "output_type": "stream",
     "text": [
      "C:\\Users\\86150\\AppData\\Local\\Temp\\ipykernel_16404\\3661735764.py:1: FutureWarning: The frame.append method is deprecated and will be removed from pandas in a future version. Use pandas.concat instead.\n",
      "  df_used.head(2).append(df_used.tail(2))\n"
     ]
    },
    {
     "data": {
      "text/html": [
       "<div>\n",
       "<style scoped>\n",
       "    .dataframe tbody tr th:only-of-type {\n",
       "        vertical-align: middle;\n",
       "    }\n",
       "\n",
       "    .dataframe tbody tr th {\n",
       "        vertical-align: top;\n",
       "    }\n",
       "\n",
       "    .dataframe thead th {\n",
       "        text-align: right;\n",
       "    }\n",
       "</style>\n",
       "<table border=\"1\" class=\"dataframe\">\n",
       "  <thead>\n",
       "    <tr style=\"text-align: right;\">\n",
       "      <th></th>\n",
       "      <th>cuisine_count</th>\n",
       "      <th>rating</th>\n",
       "      <th>delivery_cost</th>\n",
       "      <th>radius</th>\n",
       "      <th>delivery_time</th>\n",
       "      <th>promo_no promo</th>\n",
       "      <th>promo_yes promo</th>\n",
       "    </tr>\n",
       "  </thead>\n",
       "  <tbody>\n",
       "    <tr>\n",
       "      <th>0</th>\n",
       "      <td>5</td>\n",
       "      <td>3.8</td>\n",
       "      <td>5.7</td>\n",
       "      <td>5000</td>\n",
       "      <td>43.0</td>\n",
       "      <td>0</td>\n",
       "      <td>1</td>\n",
       "    </tr>\n",
       "    <tr>\n",
       "      <th>1</th>\n",
       "      <td>5</td>\n",
       "      <td>4.2</td>\n",
       "      <td>5.7</td>\n",
       "      <td>3000</td>\n",
       "      <td>42.0</td>\n",
       "      <td>0</td>\n",
       "      <td>1</td>\n",
       "    </tr>\n",
       "    <tr>\n",
       "      <th>16104</th>\n",
       "      <td>2</td>\n",
       "      <td>4.7</td>\n",
       "      <td>17.8</td>\n",
       "      <td>5000</td>\n",
       "      <td>28.0</td>\n",
       "      <td>1</td>\n",
       "      <td>0</td>\n",
       "    </tr>\n",
       "    <tr>\n",
       "      <th>16110</th>\n",
       "      <td>4</td>\n",
       "      <td>4.4</td>\n",
       "      <td>2.9</td>\n",
       "      <td>2500</td>\n",
       "      <td>20.0</td>\n",
       "      <td>0</td>\n",
       "      <td>1</td>\n",
       "    </tr>\n",
       "  </tbody>\n",
       "</table>\n",
       "</div>"
      ],
      "text/plain": [
       "       cuisine_count  rating  delivery_cost  radius  delivery_time  \\\n",
       "0                  5     3.8            5.7    5000           43.0   \n",
       "1                  5     4.2            5.7    3000           42.0   \n",
       "16104              2     4.7           17.8    5000           28.0   \n",
       "16110              4     4.4            2.9    2500           20.0   \n",
       "\n",
       "       promo_no promo  promo_yes promo  \n",
       "0                   0                1  \n",
       "1                   0                1  \n",
       "16104               1                0  \n",
       "16110               0                1  "
      ]
     },
     "execution_count": 57,
     "metadata": {},
     "output_type": "execute_result"
    }
   ],
   "source": [
    "df_used.head(2).append(df_used.tail(2))"
   ]
  },
  {
   "cell_type": "code",
   "execution_count": 58,
   "id": "1da4162b",
   "metadata": {},
   "outputs": [
    {
     "data": {
      "text/plain": [
       "<Figure size 2000x2500 with 0 Axes>"
      ]
     },
     "metadata": {},
     "output_type": "display_data"
    }
   ],
   "source": [
    "plt.figure(figsize=(20, 25))\n",
    "sns.set(font_scale=0.6)"
   ]
  },
  {
   "cell_type": "code",
   "execution_count": 59,
   "id": "9f6c36de",
   "metadata": {},
   "outputs": [],
   "source": [
    "corr_matrix = df_used.corr()\n",
    "\n"
   ]
  },
  {
   "cell_type": "code",
   "execution_count": 60,
   "id": "3b4613f7",
   "metadata": {},
   "outputs": [
    {
     "data": {
      "image/png": "[encoded data removed]",
      "text/plain": [
       "<Figure size 640x480 with 2 Axes>"
      ]
     },
     "metadata": {},
     "output_type": "display_data"
    }
   ],
   "source": [
    "dataplot = sns.heatmap(corr_matrix, cmap=\"YlGnBu\", annot=True, linewidth=.5)\n",
    "plt.show()"
   ]
  },
  {
   "cell_type": "code",
   "execution_count": 64,
   "id": "fe913ba6",
   "metadata": {},
   "outputs": [],
   "source": [
    "df_4 = df1[['cuisine_count','promo','rating','delivery_cost','radius','delivery_time']]"
   ]
  },
  {
   "cell_type": "code",
   "execution_count": 65,
   "id": "8d53becf",
   "metadata": {},
   "outputs": [
    {
     "data": {
      "text/plain": [
       "Index(['cuisine_count', 'rating', 'delivery_cost', 'radius', 'delivery_time',\n",
       "       'promo_no promo', 'promo_yes promo'],\n",
       "      dtype='object')"
      ]
     },
     "execution_count": 65,
     "metadata": {},
     "output_type": "execute_result"
    }
   ],
   "source": [
    "df_used2 = pd.get_dummies(df_4)\n",
    "df_used2.columns"
   ]
  },
  {
   "cell_type": "code",
   "execution_count": 66,
   "id": "607563a6",
   "metadata": {},
   "outputs": [
    {
     "data": {
      "image/png": "[encoded data removed]",
      "text/plain": [
       "<Figure size 640x480 with 2 Axes>"
      ]
     },
     "metadata": {},
     "output_type": "display_data"
    }
   ],
   "source": [
    "corr_matrix2 = df_used2.corr()\n",
    "dataplot = sns.heatmap(corr_matrix2, cmap=\"YlGnBu\", annot=True, linewidth=.3)\n",
    "plt.show()"
   ]
  },
  {
   "cell_type": "code",
   "execution_count": 67,
   "id": "2e9d1a32",
   "metadata": {},
   "outputs": [
    {
     "data": {
      "text/html": [
       "<div>\n",
       "<style scoped>\n",
       "    .dataframe tbody tr th:only-of-type {\n",
       "        vertical-align: middle;\n",
       "    }\n",
       "\n",
       "    .dataframe tbody tr th {\n",
       "        vertical-align: top;\n",
       "    }\n",
       "\n",
       "    .dataframe thead th {\n",
       "        text-align: right;\n",
       "    }\n",
       "</style>\n",
       "<table border=\"1\" class=\"dataframe\">\n",
       "  <thead>\n",
       "    <tr style=\"text-align: right;\">\n",
       "      <th></th>\n",
       "      <th>cuisine_count</th>\n",
       "      <th>promo</th>\n",
       "      <th>rating</th>\n",
       "      <th>delivery_cost</th>\n",
       "      <th>radius</th>\n",
       "      <th>delivery_time</th>\n",
       "    </tr>\n",
       "  </thead>\n",
       "  <tbody>\n",
       "    <tr>\n",
       "      <th>0</th>\n",
       "      <td>5</td>\n",
       "      <td>yes promo</td>\n",
       "      <td>3.8</td>\n",
       "      <td>5.7</td>\n",
       "      <td>5000</td>\n",
       "      <td>43.0</td>\n",
       "    </tr>\n",
       "    <tr>\n",
       "      <th>1</th>\n",
       "      <td>5</td>\n",
       "      <td>yes promo</td>\n",
       "      <td>4.2</td>\n",
       "      <td>5.7</td>\n",
       "      <td>3000</td>\n",
       "      <td>42.0</td>\n",
       "    </tr>\n",
       "    <tr>\n",
       "      <th>3</th>\n",
       "      <td>5</td>\n",
       "      <td>yes promo</td>\n",
       "      <td>4.4</td>\n",
       "      <td>5.6</td>\n",
       "      <td>5000</td>\n",
       "      <td>45.0</td>\n",
       "    </tr>\n",
       "    <tr>\n",
       "      <th>6</th>\n",
       "      <td>3</td>\n",
       "      <td>yes promo</td>\n",
       "      <td>4.1</td>\n",
       "      <td>5.6</td>\n",
       "      <td>5000</td>\n",
       "      <td>41.0</td>\n",
       "    </tr>\n",
       "    <tr>\n",
       "      <th>12</th>\n",
       "      <td>4</td>\n",
       "      <td>yes promo</td>\n",
       "      <td>4.5</td>\n",
       "      <td>5.7</td>\n",
       "      <td>5000</td>\n",
       "      <td>42.0</td>\n",
       "    </tr>\n",
       "  </tbody>\n",
       "</table>\n",
       "</div>"
      ],
      "text/plain": [
       "    cuisine_count      promo  rating  delivery_cost  radius  delivery_time\n",
       "0               5  yes promo     3.8            5.7    5000           43.0\n",
       "1               5  yes promo     4.2            5.7    3000           42.0\n",
       "3               5  yes promo     4.4            5.6    5000           45.0\n",
       "6               3  yes promo     4.1            5.6    5000           41.0\n",
       "12              4  yes promo     4.5            5.7    5000           42.0"
      ]
     },
     "execution_count": 67,
     "metadata": {},
     "output_type": "execute_result"
    }
   ],
   "source": [
    "df_4.head()"
   ]
  },
  {
   "cell_type": "code",
   "execution_count": 68,
   "id": "717eb673",
   "metadata": {},
   "outputs": [],
   "source": [
    "import pandas as pd\n",
    "\n",
    "df_4.to_csv('New_dataset.csv', index=False)"
   ]
  },
  {
   "cell_type": "code",
   "execution_count": null,
   "id": "4c50c0b3",
   "metadata": {},
   "outputs": [],
   "source": []
  }
 ],
 "metadata": {
  "kernelspec": {
   "display_name": "Python 3 (ipykernel)",
   "language": "python",
   "name": "python3"
  },
  "language_info": {
   "codemirror_mode": {
    "name": "ipython",
    "version": 3
   },
   "file_extension": ".py",
   "mimetype": "text/x-python",
   "name": "python",
   "nbconvert_exporter": "python",
   "pygments_lexer": "ipython3",
   "version": "3.8.15"
  }
 },
 "nbformat": 4,
 "nbformat_minor": 5
}
