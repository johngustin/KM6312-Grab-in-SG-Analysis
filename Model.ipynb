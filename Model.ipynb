{
 "cells": [
  {
   "cell_type": "code",
   "execution_count": 2,
   "id": "b0a7cf9a",
   "metadata": {
    "scrolled": true
   },
   "outputs": [],
   "source": [
    "import collections\n",
    "import numpy as np\n",
    "import pandas as pd\n",
    "import matplotlib.pyplot as plt\n",
    "from sklearn.model_selection import train_test_split\n",
    "from sklearn.preprocessing import MinMaxScaler\n",
    "\n",
    "data = pd.read_csv('New_dataset.csv', usecols=[ 'delivery_time','cuisine_count', 'promo', 'rating','delivery_cost'])\n",
    "\n",
    "# 过滤reviews_nr>10的数据\n",
    "#data = data[data['reviews_nr'] > 10]\n",
    "\n",
    "data = data.dropna()\n",
    "\n",
    "data['promo'] = data['promo'].replace({'no promo': -1, 'yes promo': 1})\n",
    "\n",
    "data = data.sort_values('rating', ascending=False)\n"
   ]
  },
  {
   "cell_type": "markdown",
   "id": "1c5adaa1",
   "metadata": {},
   "source": [
    "- 算相关性，决定feature\n",
    "- 看data balance\n",
    "- 算模糊矩阵，判断算对的多少\n",
    "- 看是否换模型、调整参数"
   ]
  },
  {
   "cell_type": "code",
   "execution_count": 3,
   "id": "f3c03bbe",
   "metadata": {},
   "outputs": [
    {
     "name": "stdout",
     "output_type": "stream",
     "text": [
      "count    1229.000000\n",
      "mean        4.322539\n",
      "std         0.274731\n",
      "min         2.700000\n",
      "25%         4.200000\n",
      "50%         4.400000\n",
      "75%         4.500000\n",
      "max         5.000000\n",
      "Name: rating, dtype: float64\n"
     ]
    },
    {
     "data": {
      "image/png": "[encoded data removed]",
      "text/plain": [
       "<Figure size 640x480 with 1 Axes>"
      ]
     },
     "metadata": {},
     "output_type": "display_data"
    },
    {
     "name": "stdout",
     "output_type": "stream",
     "text": [
      "Q1 (33th Percentile): 4.2\n",
      "Q2 (67th Percentile): 4.5\n",
      "Two values that divide the rating into three equal parts: 4.2 4.5\n"
     ]
    }
   ],
   "source": [
    "import numpy as np\n",
    "import matplotlib.pyplot as plt\n",
    "\n",
    "# 打印 rating 列的统计描述信息\n",
    "print(data['rating'].describe())\n",
    "\n",
    "# 绘制 rating 列的直方图\n",
    "plt.hist(data['rating'], bins=20)\n",
    "plt.xlabel('rating')\n",
    "plt.ylabel('Distribution')\n",
    "plt.show()\n",
    "\n",
    "# 计算三等分点\n",
    "q1 = np.percentile(data['rating'], 33)\n",
    "q2 = np.percentile(data['rating'], 67)\n",
    "\n",
    "# 打印三等分点\n",
    "print(\"Q1 (33th Percentile):\", q1)\n",
    "print(\"Q2 (67th Percentile):\", q2)\n",
    "\n",
    "# 找到能把所有rating分为三部分的两个值\n",
    "r1 = data['rating'][data['rating'] <= q1].max()\n",
    "r2 = data['rating'][(data['rating'] > q1) & (data['rating'] <= q2)].max()\n",
    "\n",
    "# 打印结果\n",
    "print(\"Two values that divide the rating into three equal parts:\", r1, r2)\n",
    "\n"
   ]
  },
  {
   "cell_type": "code",
   "execution_count": 4,
   "id": "659f9a1b",
   "metadata": {},
   "outputs": [
    {
     "data": {
      "text/html": [
       "<div>\n",
       "<style scoped>\n",
       "    .dataframe tbody tr th:only-of-type {\n",
       "        vertical-align: middle;\n",
       "    }\n",
       "\n",
       "    .dataframe tbody tr th {\n",
       "        vertical-align: top;\n",
       "    }\n",
       "\n",
       "    .dataframe thead th {\n",
       "        text-align: right;\n",
       "    }\n",
       "</style>\n",
       "<table border=\"1\" class=\"dataframe\">\n",
       "  <thead>\n",
       "    <tr style=\"text-align: right;\">\n",
       "      <th></th>\n",
       "      <th>cuisine_count</th>\n",
       "      <th>promo</th>\n",
       "      <th>rating</th>\n",
       "      <th>delivery_cost</th>\n",
       "      <th>delivery_time</th>\n",
       "      <th>rate</th>\n",
       "    </tr>\n",
       "  </thead>\n",
       "  <tbody>\n",
       "    <tr>\n",
       "      <th>627</th>\n",
       "      <td>2</td>\n",
       "      <td>1</td>\n",
       "      <td>5.0</td>\n",
       "      <td>3.3</td>\n",
       "      <td>38.0</td>\n",
       "      <td>2</td>\n",
       "    </tr>\n",
       "    <tr>\n",
       "      <th>1099</th>\n",
       "      <td>4</td>\n",
       "      <td>1</td>\n",
       "      <td>4.9</td>\n",
       "      <td>20.8</td>\n",
       "      <td>35.0</td>\n",
       "      <td>2</td>\n",
       "    </tr>\n",
       "    <tr>\n",
       "      <th>664</th>\n",
       "      <td>4</td>\n",
       "      <td>1</td>\n",
       "      <td>4.9</td>\n",
       "      <td>17.7</td>\n",
       "      <td>33.0</td>\n",
       "      <td>2</td>\n",
       "    </tr>\n",
       "    <tr>\n",
       "      <th>314</th>\n",
       "      <td>5</td>\n",
       "      <td>1</td>\n",
       "      <td>4.9</td>\n",
       "      <td>8.3</td>\n",
       "      <td>46.0</td>\n",
       "      <td>2</td>\n",
       "    </tr>\n",
       "    <tr>\n",
       "      <th>52</th>\n",
       "      <td>4</td>\n",
       "      <td>-1</td>\n",
       "      <td>4.9</td>\n",
       "      <td>12.8</td>\n",
       "      <td>64.0</td>\n",
       "      <td>2</td>\n",
       "    </tr>\n",
       "  </tbody>\n",
       "</table>\n",
       "</div>"
      ],
      "text/plain": [
       "      cuisine_count  promo  rating  delivery_cost  delivery_time  rate\n",
       "627               2      1     5.0            3.3           38.0     2\n",
       "1099              4      1     4.9           20.8           35.0     2\n",
       "664               4      1     4.9           17.7           33.0     2\n",
       "314               5      1     4.9            8.3           46.0     2\n",
       "52                4     -1     4.9           12.8           64.0     2"
      ]
     },
     "execution_count": 4,
     "metadata": {},
     "output_type": "execute_result"
    }
   ],
   "source": [
    "def rating_to_rate(rating):\n",
    "    if rating <= 4.2:\n",
    "        return 0\n",
    "    elif rating <= 4.5:\n",
    "        return 1\n",
    "    else:\n",
    "        return 2\n",
    "    \n",
    "data['rate'] = data['rating'].apply(rating_to_rate)\n",
    "data.head(5)\n",
    "\n"
   ]
  },
  {
   "cell_type": "code",
   "execution_count": 5,
   "id": "a5ebfeb7",
   "metadata": {},
   "outputs": [
    {
     "data": {
      "text/plain": [
       "1229"
      ]
     },
     "execution_count": 5,
     "metadata": {},
     "output_type": "execute_result"
    }
   ],
   "source": [
    "len(data)"
   ]
  },
  {
   "cell_type": "code",
   "execution_count": 6,
   "id": "f0cb834f",
   "metadata": {
    "scrolled": false
   },
   "outputs": [
    {
     "data": {
      "text/html": [
       "<div>\n",
       "<style scoped>\n",
       "    .dataframe tbody tr th:only-of-type {\n",
       "        vertical-align: middle;\n",
       "    }\n",
       "\n",
       "    .dataframe tbody tr th {\n",
       "        vertical-align: top;\n",
       "    }\n",
       "\n",
       "    .dataframe thead th {\n",
       "        text-align: right;\n",
       "    }\n",
       "</style>\n",
       "<table border=\"1\" class=\"dataframe\">\n",
       "  <thead>\n",
       "    <tr style=\"text-align: right;\">\n",
       "      <th></th>\n",
       "      <th>cuisine_count</th>\n",
       "      <th>promo</th>\n",
       "      <th>rating</th>\n",
       "      <th>delivery_cost</th>\n",
       "      <th>delivery_time</th>\n",
       "      <th>rate</th>\n",
       "    </tr>\n",
       "  </thead>\n",
       "  <tbody>\n",
       "    <tr>\n",
       "      <th>627</th>\n",
       "      <td>2</td>\n",
       "      <td>1</td>\n",
       "      <td>5.0</td>\n",
       "      <td>3.3</td>\n",
       "      <td>38.0</td>\n",
       "      <td>2</td>\n",
       "    </tr>\n",
       "  </tbody>\n",
       "</table>\n",
       "</div>"
      ],
      "text/plain": [
       "     cuisine_count  promo  rating  delivery_cost  delivery_time  rate\n",
       "627              2      1     5.0            3.3           38.0     2"
      ]
     },
     "execution_count": 6,
     "metadata": {},
     "output_type": "execute_result"
    }
   ],
   "source": [
    "data.head(1)"
   ]
  },
  {
   "cell_type": "code",
   "execution_count": 7,
   "id": "8af05857",
   "metadata": {},
   "outputs": [],
   "source": [
    "columns_to_normalize = ['cuisine_count', 'promo','delivery_cost','delivery_time']\n",
    "data_to_normalize = data[columns_to_normalize]\n",
    "\n",
    "scaler = MinMaxScaler()\n",
    "normalized_data = scaler.fit_transform(data_to_normalize)\n",
    "\n",
    "data[columns_to_normalize] = normalized_data"
   ]
  },
  {
   "cell_type": "code",
   "execution_count": 8,
   "id": "0b4f268e",
   "metadata": {},
   "outputs": [
    {
     "data": {
      "text/html": [
       "<div>\n",
       "<style scoped>\n",
       "    .dataframe tbody tr th:only-of-type {\n",
       "        vertical-align: middle;\n",
       "    }\n",
       "\n",
       "    .dataframe tbody tr th {\n",
       "        vertical-align: top;\n",
       "    }\n",
       "\n",
       "    .dataframe thead th {\n",
       "        text-align: right;\n",
       "    }\n",
       "</style>\n",
       "<table border=\"1\" class=\"dataframe\">\n",
       "  <thead>\n",
       "    <tr style=\"text-align: right;\">\n",
       "      <th></th>\n",
       "      <th>cuisine_count</th>\n",
       "      <th>promo</th>\n",
       "      <th>rating</th>\n",
       "      <th>delivery_cost</th>\n",
       "      <th>delivery_time</th>\n",
       "      <th>rate</th>\n",
       "    </tr>\n",
       "  </thead>\n",
       "  <tbody>\n",
       "    <tr>\n",
       "      <th>627</th>\n",
       "      <td>0.25</td>\n",
       "      <td>1.0</td>\n",
       "      <td>5.0</td>\n",
       "      <td>0.056769</td>\n",
       "      <td>0.175573</td>\n",
       "      <td>2</td>\n",
       "    </tr>\n",
       "  </tbody>\n",
       "</table>\n",
       "</div>"
      ],
      "text/plain": [
       "     cuisine_count  promo  rating  delivery_cost  delivery_time  rate\n",
       "627           0.25    1.0     5.0       0.056769       0.175573     2"
      ]
     },
     "execution_count": 8,
     "metadata": {},
     "output_type": "execute_result"
    }
   ],
   "source": [
    "data.head(1)"
   ]
  },
  {
   "cell_type": "code",
   "execution_count": 9,
   "id": "f62dfc92",
   "metadata": {},
   "outputs": [],
   "source": [
    "from sklearn.model_selection import train_test_split\n",
    "\n",
    "train_ratio = 0.7  \n",
    "test_ratio = 0.2 \n",
    "val_ratio = 0.1    \n",
    "\n",
    "# 划分训练集和测试集，并保持 rate=1、2、3 的数据平衡\n",
    "train_data, test_data = train_test_split(data, test_size=test_ratio, random_state=42, stratify=data['rate'])\n",
    "# 在训练集中再次划分验证集，并保持 rate=1、2、3 的数据平衡\n",
    "train_data, val_data = train_test_split(train_data, test_size=val_ratio/(train_ratio), random_state=42, stratify=train_data['rate'])\n"
   ]
  },
  {
   "cell_type": "code",
   "execution_count": 10,
   "id": "55edac0f",
   "metadata": {},
   "outputs": [
    {
     "data": {
      "text/html": [
       "<div>\n",
       "<style scoped>\n",
       "    .dataframe tbody tr th:only-of-type {\n",
       "        vertical-align: middle;\n",
       "    }\n",
       "\n",
       "    .dataframe tbody tr th {\n",
       "        vertical-align: top;\n",
       "    }\n",
       "\n",
       "    .dataframe thead th {\n",
       "        text-align: right;\n",
       "    }\n",
       "</style>\n",
       "<table border=\"1\" class=\"dataframe\">\n",
       "  <thead>\n",
       "    <tr style=\"text-align: right;\">\n",
       "      <th></th>\n",
       "      <th>cuisine_count</th>\n",
       "      <th>promo</th>\n",
       "      <th>rating</th>\n",
       "      <th>delivery_cost</th>\n",
       "      <th>delivery_time</th>\n",
       "      <th>rate</th>\n",
       "    </tr>\n",
       "  </thead>\n",
       "  <tbody>\n",
       "    <tr>\n",
       "      <th>429</th>\n",
       "      <td>1.0</td>\n",
       "      <td>1.0</td>\n",
       "      <td>4.5</td>\n",
       "      <td>0.087336</td>\n",
       "      <td>0.236641</td>\n",
       "      <td>1</td>\n",
       "    </tr>\n",
       "    <tr>\n",
       "      <th>992</th>\n",
       "      <td>0.5</td>\n",
       "      <td>1.0</td>\n",
       "      <td>4.4</td>\n",
       "      <td>0.113537</td>\n",
       "      <td>0.053435</td>\n",
       "      <td>1</td>\n",
       "    </tr>\n",
       "    <tr>\n",
       "      <th>589</th>\n",
       "      <td>1.0</td>\n",
       "      <td>1.0</td>\n",
       "      <td>4.0</td>\n",
       "      <td>0.109170</td>\n",
       "      <td>0.221374</td>\n",
       "      <td>0</td>\n",
       "    </tr>\n",
       "    <tr>\n",
       "      <th>605</th>\n",
       "      <td>0.5</td>\n",
       "      <td>1.0</td>\n",
       "      <td>4.4</td>\n",
       "      <td>0.414847</td>\n",
       "      <td>0.068702</td>\n",
       "      <td>1</td>\n",
       "    </tr>\n",
       "    <tr>\n",
       "      <th>990</th>\n",
       "      <td>0.5</td>\n",
       "      <td>1.0</td>\n",
       "      <td>4.5</td>\n",
       "      <td>0.056769</td>\n",
       "      <td>0.099237</td>\n",
       "      <td>1</td>\n",
       "    </tr>\n",
       "  </tbody>\n",
       "</table>\n",
       "</div>"
      ],
      "text/plain": [
       "     cuisine_count  promo  rating  delivery_cost  delivery_time  rate\n",
       "429            1.0    1.0     4.5       0.087336       0.236641     1\n",
       "992            0.5    1.0     4.4       0.113537       0.053435     1\n",
       "589            1.0    1.0     4.0       0.109170       0.221374     0\n",
       "605            0.5    1.0     4.4       0.414847       0.068702     1\n",
       "990            0.5    1.0     4.5       0.056769       0.099237     1"
      ]
     },
     "execution_count": 10,
     "metadata": {},
     "output_type": "execute_result"
    }
   ],
   "source": [
    "train_data.head(5)"
   ]
  },
  {
   "cell_type": "code",
   "execution_count": 11,
   "id": "ebf2f381",
   "metadata": {},
   "outputs": [
    {
     "data": {
      "image/png": "[encoded data removed]",
      "text/plain": [
       "<Figure size 640x480 with 1 Axes>"
      ]
     },
     "metadata": {},
     "output_type": "display_data"
    }
   ],
   "source": [
    "import matplotlib.pyplot as plt\n",
    "\n",
    "# 计算 train_data 中每个类别的样本数量\n",
    "train_data_counts = train_data['rate'].value_counts()\n",
    "\n",
    "# 计算 test_data 中每个类别的样本数量\n",
    "test_data_counts = test_data['rate'].value_counts()\n",
    "\n",
    "# 计算 val_data 中每个类别的样本数量\n",
    "val_data_counts = val_data['rate'].value_counts()\n",
    "\n",
    "# 创建柱状图\n",
    "plt.bar(train_data_counts.index, train_data_counts.values, label='Train Data')\n",
    "plt.bar(test_data_counts.index, test_data_counts.values, label='Test Data')\n",
    "plt.bar(val_data_counts.index, val_data_counts.values, label='Validation Data')\n",
    "\n",
    "# 设置图表标题和标签\n",
    "plt.title('Class Distribution')\n",
    "plt.xlabel('rate')\n",
    "plt.ylabel('Count')\n",
    "\n",
    "# 添加图例\n",
    "plt.legend()\n",
    "\n",
    "# 显示图表\n",
    "plt.show()"
   ]
  },
  {
   "cell_type": "code",
   "execution_count": 12,
   "id": "e415f124",
   "metadata": {},
   "outputs": [
    {
     "data": {
      "image/png": "[encoded data removed]",
      "text/plain": [
       "<Figure size 640x480 with 1 Axes>"
      ]
     },
     "metadata": {},
     "output_type": "display_data"
    }
   ],
   "source": [
    "# 计算训练集中各类别的样本数量\n",
    "train_data_counts = train_data['rate'].value_counts()\n",
    "\n",
    "# 获取数量最少的类别的样本数量\n",
    "min_count = train_data_counts.min()\n",
    "\n",
    "# 对数量较多的类别进行下采样，使其与数量较少的类别的样本数量相当\n",
    "train_data_balanced = pd.concat([group.sample(n=min_count, replace=False, random_state=42)\n",
    "                                 for _, group in train_data.groupby('rate')])\n",
    "\n",
    "# 重新计算 train_data_balanced 中每个类别的样本数量\n",
    "train_data_balanced_counts = train_data_balanced['rate'].value_counts()\n",
    "\n",
    "# 创建柱状图\n",
    "plt.bar(train_data_balanced_counts.index, train_data_balanced_counts.values, label='Train Data')\n",
    "\n",
    "# 设置图表标题和标签\n",
    "plt.title('Class Distribution')\n",
    "plt.xlabel('rate')\n",
    "plt.ylabel('Count')\n",
    "\n",
    "# 添加图例\n",
    "plt.legend()\n",
    "\n",
    "# 显示图表\n",
    "plt.show()\n"
   ]
  },
  {
   "cell_type": "code",
   "execution_count": 13,
   "id": "4fb7e774",
   "metadata": {},
   "outputs": [
    {
     "data": {
      "image/png": "[encoded data removed]",
      "text/plain": [
       "<Figure size 640x480 with 1 Axes>"
      ]
     },
     "metadata": {},
     "output_type": "display_data"
    }
   ],
   "source": [
    "from sklearn.utils import resample\n",
    "\n",
    "# 计算训练集中各类别的样本数量\n",
    "train_data_counts = train_data['rate'].value_counts()\n",
    "\n",
    "# 获取数量最多的类别的样本数量\n",
    "max_count = train_data_counts.max()\n",
    "\n",
    "# 对数量较少的类别进行过采样，使其与数量较多的类别的样本数量相当\n",
    "train_data_balanced = pd.concat([resample(group, n_samples=max_count, replace=True, random_state=42)\n",
    "                                 for _, group in train_data.groupby('rate')])\n",
    "\n",
    "# 重新计算 train_data_balanced 中每个类别的样本数量\n",
    "train_data_balanced_counts = train_data_balanced['rate'].value_counts()\n",
    "\n",
    "# 创建柱状图\n",
    "plt.bar(train_data_balanced_counts.index, train_data_balanced_counts.values, label='Train Data')\n",
    "\n",
    "# 设置图表标题和标签\n",
    "plt.title('Class Distribution')\n",
    "plt.xlabel('rate')\n",
    "plt.ylabel('Count')\n",
    "\n",
    "# 添加图例\n",
    "plt.legend()\n",
    "\n",
    "# 显示图表\n",
    "plt.show()\n"
   ]
  },
  {
   "cell_type": "code",
   "execution_count": 14,
   "id": "b7c3e3c3",
   "metadata": {},
   "outputs": [
    {
     "name": "stdout",
     "output_type": "stream",
     "text": [
      "count    1229.000000\n",
      "mean        0.652360\n",
      "std         0.282365\n",
      "min         0.000000\n",
      "25%         0.500000\n",
      "50%         0.750000\n",
      "75%         1.000000\n",
      "max         1.000000\n",
      "Name: cuisine_count, dtype: float64\n"
     ]
    },
    {
     "data": {
      "image/png": "[encoded data removed]",
      "text/plain": [
       "<Figure size 640x480 with 1 Axes>"
      ]
     },
     "metadata": {},
     "output_type": "display_data"
    }
   ],
   "source": [
    "print(data['cuisine_count'].describe())\n",
    "plt.hist(data['cuisine_count'], bins=20)\n",
    "plt.xlabel('cuisine_count')\n",
    "plt.ylabel('Frequency')\n",
    "plt.show()"
   ]
  },
  {
   "cell_type": "code",
   "execution_count": null,
   "id": "45b9d70a",
   "metadata": {},
   "outputs": [],
   "source": []
  },
  {
   "cell_type": "code",
   "execution_count": null,
   "id": "71c0df1d",
   "metadata": {},
   "outputs": [],
   "source": []
  },
  {
   "cell_type": "code",
   "execution_count": 15,
   "id": "ce721cac",
   "metadata": {},
   "outputs": [
    {
     "name": "stdout",
     "output_type": "stream",
     "text": [
      "count    1229.000000\n",
      "mean        0.844589\n",
      "std         0.362443\n",
      "min         0.000000\n",
      "25%         1.000000\n",
      "50%         1.000000\n",
      "75%         1.000000\n",
      "max         1.000000\n",
      "Name: promo, dtype: float64\n"
     ]
    },
    {
     "data": {
      "image/png": "[encoded data removed]",
      "text/plain": [
       "<Figure size 640x480 with 1 Axes>"
      ]
     },
     "metadata": {},
     "output_type": "display_data"
    }
   ],
   "source": [
    "print(data['promo'].describe())\n",
    "plt.hist(data['promo'], bins=20)\n",
    "plt.xlabel('promo')\n",
    "plt.ylabel('Frequency')\n",
    "plt.show()"
   ]
  },
  {
   "cell_type": "code",
   "execution_count": 16,
   "id": "7266d6a9",
   "metadata": {
    "scrolled": false
   },
   "outputs": [
    {
     "name": "stdout",
     "output_type": "stream",
     "text": [
      "count    1229.000000\n",
      "mean        0.845403\n",
      "std         0.710912\n",
      "min         0.000000\n",
      "25%         0.000000\n",
      "50%         1.000000\n",
      "75%         1.000000\n",
      "max         2.000000\n",
      "Name: rate, dtype: float64\n"
     ]
    },
    {
     "data": {
      "image/png": "[encoded data removed]",
      "text/plain": [
       "<Figure size 640x480 with 1 Axes>"
      ]
     },
     "metadata": {},
     "output_type": "display_data"
    }
   ],
   "source": [
    "print(data['rate'].describe())\n",
    "plt.hist(data['rate'], bins=20)\n",
    "plt.xlabel('rate')\n",
    "plt.ylabel('Frequency')\n",
    "plt.show()"
   ]
  },
  {
   "cell_type": "markdown",
   "id": "30482f56",
   "metadata": {},
   "source": [
    "### LinearRegression"
   ]
  },
  {
   "cell_type": "code",
   "execution_count": 17,
   "id": "e0083045",
   "metadata": {
    "scrolled": true
   },
   "outputs": [
    {
     "name": "stdout",
     "output_type": "stream",
     "text": [
      "Testing accuracy: 0.4715447154471545\n",
      "Validation accuracy: 0.475177304964539\n",
      "测试集MSE:  0.5284552845528455\n",
      "验证集MSE:  0.524822695035461\n",
      "Coefficients: [-0.10007513  0.04074889  0.07862706]\n",
      "Intercept: 0.8456057007125891\n"
     ]
    }
   ],
   "source": [
    "from sklearn.linear_model import LinearRegression\n",
    "from sklearn.model_selection import train_test_split, GridSearchCV\n",
    "from sklearn.metrics import mean_squared_error\n",
    "import pandas as pd\n",
    "from sklearn import metrics\n",
    "from sklearn.metrics import accuracy_score\n",
    "from sklearn.preprocessing import StandardScaler\n",
    "\n",
    "X = train_data[['cuisine_count', 'promo','delivery_cost']]\n",
    "y = train_data['rate']\n",
    "X_test = test_data[['cuisine_count', 'promo','delivery_cost']]\n",
    "y_test = test_data['rate']\n",
    "X_val = val_data[['cuisine_count', 'promo','delivery_cost']]\n",
    "y_val = val_data['rate']\n",
    "\n",
    "scaler = StandardScaler()\n",
    "X= scaler.fit_transform(X)\n",
    "X_test = scaler.transform(X_test)\n",
    "X_val = scaler.transform(X_val)\n",
    "\n",
    "param_grid = {'fit_intercept': [True, False], 'positive': [True, False], 'n_jobs': [-1, 1]}\n",
    "\n",
    "model = LinearRegression()\n",
    "\n",
    "grid_search = GridSearchCV(estimator=model, param_grid=param_grid, cv=5)\n",
    "grid_search.fit(X, y)\n",
    "\n",
    "y_pred = grid_search.predict(X_test)\n",
    "y_pred = y_pred.round().astype(int)\n",
    "mse = mean_squared_error(y_test, y_pred)\n",
    "\n",
    "y_val_pred = grid_search.predict(X_val)\n",
    "y_val_pred = y_val_pred.round().astype(int)\n",
    "mse_val = mean_squared_error(y_val, y_val_pred)\n",
    "\n",
    "accuracy_1 = accuracy_score(y_test, y_pred)\n",
    "accuracy_2 = accuracy_score(y_val, y_val_pred)\n",
    "\n",
    "best_model = grid_search.best_estimator_\n",
    "coefficients = best_model.coef_\n",
    "intercept = best_model.intercept_\n",
    "\n",
    "print(\"Testing accuracy:\", accuracy_1)\n",
    "print(\"Validation accuracy:\", accuracy_2)\n",
    "print(\"测试集MSE: \", mse)\n",
    "print(\"验证集MSE: \", mse_val)\n",
    "print(\"Coefficients:\", coefficients)\n",
    "print(\"Intercept:\", intercept)"
   ]
  },
  {
   "cell_type": "code",
   "execution_count": 18,
   "id": "5c82c7f1",
   "metadata": {
    "scrolled": true
   },
   "outputs": [
    {
     "data": {
      "image/png": "[encoded data removed]",
      "text/plain": [
       "<Figure size 640x480 with 1 Axes>"
      ]
     },
     "metadata": {},
     "output_type": "display_data"
    }
   ],
   "source": [
    "import matplotlib.pyplot as plt\n",
    "\n",
    "# 绘制测试集预测结果和实际结果的散点图\n",
    "plt.scatter(y_test, y_pred)\n",
    "plt.xlabel('Actual Rates')\n",
    "plt.ylabel('Predicted Rates')\n",
    "plt.title('Actual vs. Predicted Rates on Test Set')\n",
    "plt.show()"
   ]
  },
  {
   "cell_type": "markdown",
   "id": "724854a0",
   "metadata": {},
   "source": [
    "### SVM"
   ]
  },
  {
   "cell_type": "code",
   "execution_count": 29,
   "id": "458abe91",
   "metadata": {},
   "outputs": [
    {
     "name": "stdout",
     "output_type": "stream",
     "text": [
      "Testing accuracy: 0.491869918699187\n",
      "Validation accuracy: 0.46808510638297873\n",
      "Testing MSE: 0.7154471544715447\n",
      "Validation MSE: 0.8085106382978723\n"
     ]
    }
   ],
   "source": [
    "from sklearn.svm import SVC\n",
    "from sklearn.metrics import accuracy_score\n",
    "from sklearn.model_selection import GridSearchCV\n",
    "from sklearn.preprocessing import StandardScaler\n",
    "\n",
    "X = train_data[['cuisine_count', 'promo','delivery_cost']]\n",
    "y = train_data['rate']\n",
    "X_test = test_data[['cuisine_count', 'promo','delivery_cost']]\n",
    "y_test = test_data['rate']\n",
    "X_val = val_data[['cuisine_count', 'promo','delivery_cost']]\n",
    "y_val = val_data['rate']\n",
    "\n",
    "scaler = StandardScaler()\n",
    "X= scaler.fit_transform(X)\n",
    "X_test = scaler.transform(X_test)\n",
    "X_val = scaler.transform(X_val)\n",
    "\n",
    "#param_grid = {'C': [0.1, 1, 10, 100], 'kernel': ['linear', 'rbf', 'sigmoid'], 'gamma': ['scale', 'auto']}\n",
    "\n",
    "#model = SVC()\n",
    "model = SVC(C=10, kernel='rbf', gamma='auto')\n",
    "\n",
    "#grid_search = GridSearchCV(estimator=model, param_grid=param_grid, cv=5)\n",
    "model.fit(X, y)\n",
    "\n",
    "y_pred = model.predict(X_test)\n",
    "accuracy_1 = accuracy_score(y_test, y_pred)\n",
    "\n",
    "y_val_pred = model.predict(X_val)\n",
    "accuracy_2 = accuracy_score(y_val, y_val_pred)\n",
    "\n",
    "print(\"Testing accuracy:\", accuracy_1)\n",
    "print(\"Validation accuracy:\", accuracy_2)\n",
    "\n",
    "from sklearn.metrics import accuracy_score, mean_squared_error\n",
    "\n",
    "# 计算测试集的MSE\n",
    "mse_1 = mean_squared_error(y_test, y_pred)\n",
    "print(\"Testing MSE:\", mse_1)\n",
    "\n",
    "# 计算验证集的MSE\n",
    "mse_2 = mean_squared_error(y_val, y_val_pred)\n",
    "print(\"Validation MSE:\", mse_2)\n"
   ]
  },
  {
   "cell_type": "code",
   "execution_count": 182,
   "id": "4cf1c5a9",
   "metadata": {},
   "outputs": [
    {
     "data": {
      "image/png": "[encoded data removed]",
      "text/plain": [
       "<Figure size 640x480 with 1 Axes>"
      ]
     },
     "metadata": {},
     "output_type": "display_data"
    }
   ],
   "source": [
    "import matplotlib.pyplot as plt\n",
    "\n",
    "plt.scatter(y_test, y_pred)\n",
    "plt.xlabel('Actual Rates')\n",
    "plt.ylabel('Predicted Rates')\n",
    "plt.title('Actual vs. Predicted Rates on Test Set')\n",
    "plt.show()"
   ]
  },
  {
   "cell_type": "markdown",
   "id": "9ec5407e",
   "metadata": {},
   "source": [
    "### DecisionTree"
   ]
  },
  {
   "cell_type": "code",
   "execution_count": 20,
   "id": "ba451ff6",
   "metadata": {},
   "outputs": [
    {
     "name": "stdout",
     "output_type": "stream",
     "text": [
      "Testing accuracy: 0.43089430894308944\n",
      "Validation accuracy: 0.48936170212765956\n",
      "Testing MSE: 0.9227642276422764\n",
      "Validation MSE: 0.851063829787234\n"
     ]
    }
   ],
   "source": [
    "from sklearn.tree import DecisionTreeClassifier\n",
    "from sklearn.metrics import accuracy_score\n",
    "from sklearn.model_selection import GridSearchCV\n",
    "from sklearn.preprocessing import StandardScaler\n",
    "\n",
    "X = train_data[['cuisine_count', 'promo','delivery_cost']]\n",
    "y = train_data['rate']\n",
    "X_test = test_data[['cuisine_count', 'promo','delivery_cost']]\n",
    "y_test = test_data['rate']\n",
    "X_val = val_data[['cuisine_count', 'promo','delivery_cost']]\n",
    "y_val = val_data['rate']\n",
    "\n",
    "scaler = StandardScaler()\n",
    "X= scaler.fit_transform(X)\n",
    "X_test = scaler.transform(X_test)\n",
    "X_val = scaler.transform(X_val)\n",
    "\n",
    "#param_grid = {'max_depth': [3, 5, 7, 10], 'criterion': ['gini', 'entropy'], 'min_samples_split': [2, 5, 10]}\n",
    "\n",
    "model = DecisionTreeClassifier(criterion='entropy', max_depth=10, min_samples_split=10)\n",
    "\n",
    "#grid_search = GridSearchCV(estimator=model, param_grid=param_grid, cv=5)\n",
    "model.fit(X, y)\n",
    "\n",
    "y_pred = model.predict(X_test)\n",
    "accuracy_1 = accuracy_score(y_test, y_pred)\n",
    "\n",
    "y_val_pred = model.predict(X_val)\n",
    "accuracy_2 = accuracy_score(y_val, y_val_pred)\n",
    "\n",
    "print(\"Testing accuracy:\", accuracy_1)\n",
    "print(\"Validation accuracy:\", accuracy_2)\n",
    "\n",
    "from sklearn.metrics import accuracy_score, mean_squared_error\n",
    "\n",
    "# 计算测试集的MSE\n",
    "mse_1 = mean_squared_error(y_test, y_pred)\n",
    "print(\"Testing MSE:\", mse_1)\n",
    "\n",
    "# 计算验证集的MSE\n",
    "mse_2 = mean_squared_error(y_val, y_val_pred)\n",
    "print(\"Validation MSE:\", mse_2)\n"
   ]
  },
  {
   "cell_type": "markdown",
   "id": "19a523d8",
   "metadata": {},
   "source": [
    "### RandomForest"
   ]
  },
  {
   "cell_type": "code",
   "execution_count": 24,
   "id": "ef4e7f90",
   "metadata": {},
   "outputs": [
    {
     "name": "stdout",
     "output_type": "stream",
     "text": [
      "Testing accuracy: 0.4796747967479675\n",
      "Validation accuracy: 0.49645390070921985\n",
      "Testing MSE: 0.5691056910569106\n",
      "Validation MSE: 0.5460992907801419\n"
     ]
    }
   ],
   "source": [
    "from sklearn.ensemble import RandomForestClassifier\n",
    "from sklearn.metrics import accuracy_score\n",
    "from sklearn.preprocessing import StandardScaler\n",
    "\n",
    "X = train_data[['cuisine_count', 'promo','delivery_cost']]\n",
    "y = train_data['rate']\n",
    "X_test = test_data[['cuisine_count', 'promo','delivery_cost']]\n",
    "y_test = test_data['rate']\n",
    "X_val = val_data[['cuisine_count', 'promo','delivery_cost']]\n",
    "y_val = val_data['rate']\n",
    "\n",
    "scaler = StandardScaler()\n",
    "X= scaler.fit_transform(X)\n",
    "X_test = scaler.transform(X_test)\n",
    "X_val = scaler.transform(X_val)\n",
    "\n",
    "model = RandomForestClassifier(n_estimators=1000, max_depth=10, min_samples_split=200)\n",
    "model.fit(X, y)\n",
    "\n",
    "y_pred = model.predict(X_test)\n",
    "accuracy_1 = accuracy_score(y_test, y_pred)\n",
    "\n",
    "y_val_pred = model.predict(X_val)\n",
    "accuracy_2 = accuracy_score(y_val, y_val_pred)\n",
    "\n",
    "print(\"Testing accuracy:\", accuracy_1)\n",
    "print(\"Validation accuracy:\", accuracy_2)\n",
    "\n",
    "from sklearn.metrics import accuracy_score, mean_squared_error\n",
    "\n",
    "# 计算测试集的MSE\n",
    "mse_1 = mean_squared_error(y_test, y_pred)\n",
    "print(\"Testing MSE:\", mse_1)\n",
    "\n",
    "# 计算验证集的MSE\n",
    "mse_2 = mean_squared_error(y_val, y_val_pred)\n",
    "print(\"Validation MSE:\", mse_2)\n",
    "\n"
   ]
  },
  {
   "cell_type": "code",
   "execution_count": null,
   "id": "8e43c4b3",
   "metadata": {},
   "outputs": [],
   "source": []
  }
 ],
 "metadata": {
  "kernelspec": {
   "display_name": "Python 3 (ipykernel)",
   "language": "python",
   "name": "python3"
  },
  "language_info": {
   "codemirror_mode": {
    "name": "ipython",
    "version": 3
   },
   "file_extension": ".py",
   "mimetype": "text/x-python",
   "name": "python",
   "nbconvert_exporter": "python",
   "pygments_lexer": "ipython3",
   "version": "3.8.15"
  }
 },
 "nbformat": 4,
 "nbformat_minor": 5
}
